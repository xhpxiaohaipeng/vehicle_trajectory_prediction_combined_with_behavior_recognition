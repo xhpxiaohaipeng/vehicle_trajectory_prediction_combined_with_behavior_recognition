{
 "cells": [
  {
   "cell_type": "code",
   "execution_count": 1,
   "metadata": {},
   "outputs": [],
   "source": [
    "import pandas as pd\n",
    "import numpy as np\n",
    "import math\n",
    "import matplotlib.pyplot as plt"
   ]
  },
  {
   "cell_type": "code",
   "execution_count": 5,
   "metadata": {},
   "outputs": [
    {
     "name": "stdout",
     "output_type": "stream",
     "text": [
      "59.99999999999999\n"
     ]
    }
   ],
   "source": [
    "a = math.atan2(3**0.5,1)\n",
    "print(a*180/np.pi)"
   ]
  },
  {
   "cell_type": "code",
   "execution_count": 3,
   "metadata": {},
   "outputs": [
    {
     "ename": "KeyboardInterrupt",
     "evalue": "",
     "output_type": "error",
     "traceback": [
      "\u001b[0;31m---------------------------------------------------------------------------\u001b[0m",
      "\u001b[0;31mKeyboardInterrupt\u001b[0m                         Traceback (most recent call last)",
      "\u001b[0;32m<ipython-input-3-b86fa51c5649>\u001b[0m in \u001b[0;36m<module>\u001b[0;34m\u001b[0m\n\u001b[1;32m      1\u001b[0m \u001b[0mdata1\u001b[0m \u001b[0;34m=\u001b[0m \u001b[0mpd\u001b[0m\u001b[0;34m.\u001b[0m\u001b[0mread_csv\u001b[0m\u001b[0;34m(\u001b[0m\u001b[0;34m'data/NGSIM_Peachtree_Vehicle_Trajectories.csv'\u001b[0m\u001b[0;34m)\u001b[0m\u001b[0;34m\u001b[0m\u001b[0m\n\u001b[1;32m      2\u001b[0m \u001b[0;31m#data2 = pd.read_csv('data/NGSIM__Lankershim_Vehicle_Trajectories.csv')\u001b[0m\u001b[0;34m\u001b[0m\u001b[0;34m\u001b[0m\u001b[0m\n\u001b[0;32m----> 3\u001b[0;31m \u001b[0mdata3\u001b[0m  \u001b[0;34m=\u001b[0m \u001b[0mpd\u001b[0m\u001b[0;34m.\u001b[0m\u001b[0mread_csv\u001b[0m\u001b[0;34m(\u001b[0m\u001b[0;34m'data/Next_Generation_Simulation__NGSIM__Vehicle_Trajectories_and_Supporting_Data.csv'\u001b[0m\u001b[0;34m)\u001b[0m\u001b[0;34m\u001b[0m\u001b[0m\n\u001b[0m\u001b[1;32m      4\u001b[0m \u001b[0;34m\u001b[0m\u001b[0m\n\u001b[1;32m      5\u001b[0m \u001b[0mdata\u001b[0m \u001b[0;34m=\u001b[0m \u001b[0mpd\u001b[0m\u001b[0;34m.\u001b[0m\u001b[0mconcat\u001b[0m\u001b[0;34m(\u001b[0m\u001b[0;34m[\u001b[0m\u001b[0mdata1\u001b[0m\u001b[0;34m,\u001b[0m\u001b[0mdata3\u001b[0m\u001b[0;34m]\u001b[0m\u001b[0;34m,\u001b[0m\u001b[0maxis\u001b[0m\u001b[0;34m=\u001b[0m\u001b[0;36m0\u001b[0m\u001b[0;34m)\u001b[0m\u001b[0;34m\u001b[0m\u001b[0m\n",
      "\u001b[0;32m~/.local/lib/python3.5/site-packages/pandas/io/parsers.py\u001b[0m in \u001b[0;36mparser_f\u001b[0;34m(filepath_or_buffer, sep, delimiter, header, names, index_col, usecols, squeeze, prefix, mangle_dupe_cols, dtype, engine, converters, true_values, false_values, skipinitialspace, skiprows, skipfooter, nrows, na_values, keep_default_na, na_filter, verbose, skip_blank_lines, parse_dates, infer_datetime_format, keep_date_col, date_parser, dayfirst, iterator, chunksize, compression, thousands, decimal, lineterminator, quotechar, quoting, doublequote, escapechar, comment, encoding, dialect, tupleize_cols, error_bad_lines, warn_bad_lines, delim_whitespace, low_memory, memory_map, float_precision)\u001b[0m\n\u001b[1;32m    700\u001b[0m                     skip_blank_lines=skip_blank_lines)\n\u001b[1;32m    701\u001b[0m \u001b[0;34m\u001b[0m\u001b[0m\n\u001b[0;32m--> 702\u001b[0;31m         \u001b[0;32mreturn\u001b[0m \u001b[0m_read\u001b[0m\u001b[0;34m(\u001b[0m\u001b[0mfilepath_or_buffer\u001b[0m\u001b[0;34m,\u001b[0m \u001b[0mkwds\u001b[0m\u001b[0;34m)\u001b[0m\u001b[0;34m\u001b[0m\u001b[0m\n\u001b[0m\u001b[1;32m    703\u001b[0m \u001b[0;34m\u001b[0m\u001b[0m\n\u001b[1;32m    704\u001b[0m     \u001b[0mparser_f\u001b[0m\u001b[0;34m.\u001b[0m\u001b[0m__name__\u001b[0m \u001b[0;34m=\u001b[0m \u001b[0mname\u001b[0m\u001b[0;34m\u001b[0m\u001b[0m\n",
      "\u001b[0;32m~/.local/lib/python3.5/site-packages/pandas/io/parsers.py\u001b[0m in \u001b[0;36m_read\u001b[0;34m(filepath_or_buffer, kwds)\u001b[0m\n\u001b[1;32m    433\u001b[0m \u001b[0;34m\u001b[0m\u001b[0m\n\u001b[1;32m    434\u001b[0m     \u001b[0;32mtry\u001b[0m\u001b[0;34m:\u001b[0m\u001b[0;34m\u001b[0m\u001b[0m\n\u001b[0;32m--> 435\u001b[0;31m         \u001b[0mdata\u001b[0m \u001b[0;34m=\u001b[0m \u001b[0mparser\u001b[0m\u001b[0;34m.\u001b[0m\u001b[0mread\u001b[0m\u001b[0;34m(\u001b[0m\u001b[0mnrows\u001b[0m\u001b[0;34m)\u001b[0m\u001b[0;34m\u001b[0m\u001b[0m\n\u001b[0m\u001b[1;32m    436\u001b[0m     \u001b[0;32mfinally\u001b[0m\u001b[0;34m:\u001b[0m\u001b[0;34m\u001b[0m\u001b[0m\n\u001b[1;32m    437\u001b[0m         \u001b[0mparser\u001b[0m\u001b[0;34m.\u001b[0m\u001b[0mclose\u001b[0m\u001b[0;34m(\u001b[0m\u001b[0;34m)\u001b[0m\u001b[0;34m\u001b[0m\u001b[0m\n",
      "\u001b[0;32m~/.local/lib/python3.5/site-packages/pandas/io/parsers.py\u001b[0m in \u001b[0;36mread\u001b[0;34m(self, nrows)\u001b[0m\n\u001b[1;32m   1137\u001b[0m     \u001b[0;32mdef\u001b[0m \u001b[0mread\u001b[0m\u001b[0;34m(\u001b[0m\u001b[0mself\u001b[0m\u001b[0;34m,\u001b[0m \u001b[0mnrows\u001b[0m\u001b[0;34m=\u001b[0m\u001b[0;32mNone\u001b[0m\u001b[0;34m)\u001b[0m\u001b[0;34m:\u001b[0m\u001b[0;34m\u001b[0m\u001b[0m\n\u001b[1;32m   1138\u001b[0m         \u001b[0mnrows\u001b[0m \u001b[0;34m=\u001b[0m \u001b[0m_validate_integer\u001b[0m\u001b[0;34m(\u001b[0m\u001b[0;34m'nrows'\u001b[0m\u001b[0;34m,\u001b[0m \u001b[0mnrows\u001b[0m\u001b[0;34m)\u001b[0m\u001b[0;34m\u001b[0m\u001b[0m\n\u001b[0;32m-> 1139\u001b[0;31m         \u001b[0mret\u001b[0m \u001b[0;34m=\u001b[0m \u001b[0mself\u001b[0m\u001b[0;34m.\u001b[0m\u001b[0m_engine\u001b[0m\u001b[0;34m.\u001b[0m\u001b[0mread\u001b[0m\u001b[0;34m(\u001b[0m\u001b[0mnrows\u001b[0m\u001b[0;34m)\u001b[0m\u001b[0;34m\u001b[0m\u001b[0m\n\u001b[0m\u001b[1;32m   1140\u001b[0m \u001b[0;34m\u001b[0m\u001b[0m\n\u001b[1;32m   1141\u001b[0m         \u001b[0;31m# May alter columns / col_dict\u001b[0m\u001b[0;34m\u001b[0m\u001b[0;34m\u001b[0m\u001b[0m\n",
      "\u001b[0;32m~/.local/lib/python3.5/site-packages/pandas/io/parsers.py\u001b[0m in \u001b[0;36mread\u001b[0;34m(self, nrows)\u001b[0m\n\u001b[1;32m   1993\u001b[0m     \u001b[0;32mdef\u001b[0m \u001b[0mread\u001b[0m\u001b[0;34m(\u001b[0m\u001b[0mself\u001b[0m\u001b[0;34m,\u001b[0m \u001b[0mnrows\u001b[0m\u001b[0;34m=\u001b[0m\u001b[0;32mNone\u001b[0m\u001b[0;34m)\u001b[0m\u001b[0;34m:\u001b[0m\u001b[0;34m\u001b[0m\u001b[0m\n\u001b[1;32m   1994\u001b[0m         \u001b[0;32mtry\u001b[0m\u001b[0;34m:\u001b[0m\u001b[0;34m\u001b[0m\u001b[0m\n\u001b[0;32m-> 1995\u001b[0;31m             \u001b[0mdata\u001b[0m \u001b[0;34m=\u001b[0m \u001b[0mself\u001b[0m\u001b[0;34m.\u001b[0m\u001b[0m_reader\u001b[0m\u001b[0;34m.\u001b[0m\u001b[0mread\u001b[0m\u001b[0;34m(\u001b[0m\u001b[0mnrows\u001b[0m\u001b[0;34m)\u001b[0m\u001b[0;34m\u001b[0m\u001b[0m\n\u001b[0m\u001b[1;32m   1996\u001b[0m         \u001b[0;32mexcept\u001b[0m \u001b[0mStopIteration\u001b[0m\u001b[0;34m:\u001b[0m\u001b[0;34m\u001b[0m\u001b[0m\n\u001b[1;32m   1997\u001b[0m             \u001b[0;32mif\u001b[0m \u001b[0mself\u001b[0m\u001b[0;34m.\u001b[0m\u001b[0m_first_chunk\u001b[0m\u001b[0;34m:\u001b[0m\u001b[0;34m\u001b[0m\u001b[0m\n",
      "\u001b[0;32mpandas/_libs/parsers.pyx\u001b[0m in \u001b[0;36mpandas._libs.parsers.TextReader.read\u001b[0;34m()\u001b[0m\n",
      "\u001b[0;32mpandas/_libs/parsers.pyx\u001b[0m in \u001b[0;36mpandas._libs.parsers.TextReader._read_low_memory\u001b[0;34m()\u001b[0m\n",
      "\u001b[0;32mpandas/_libs/parsers.pyx\u001b[0m in \u001b[0;36mpandas._libs.parsers.TextReader._read_rows\u001b[0;34m()\u001b[0m\n",
      "\u001b[0;32mpandas/_libs/parsers.pyx\u001b[0m in \u001b[0;36mpandas._libs.parsers.TextReader._convert_column_data\u001b[0;34m()\u001b[0m\n",
      "\u001b[0;32mpandas/_libs/parsers.pyx\u001b[0m in \u001b[0;36mpandas._libs.parsers.TextReader._convert_tokens\u001b[0;34m()\u001b[0m\n",
      "\u001b[0;32mpandas/_libs/parsers.pyx\u001b[0m in \u001b[0;36mpandas._libs.parsers.TextReader._convert_with_dtype\u001b[0;34m()\u001b[0m\n",
      "\u001b[0;32m~/.local/lib/python3.5/site-packages/pandas/core/dtypes/common.py\u001b[0m in \u001b[0;36mis_categorical_dtype\u001b[0;34m(arr_or_dtype)\u001b[0m\n\u001b[1;32m    570\u001b[0m \u001b[0;34m\u001b[0m\u001b[0m\n\u001b[1;32m    571\u001b[0m \u001b[0;34m\u001b[0m\u001b[0m\n\u001b[0;32m--> 572\u001b[0;31m \u001b[0;32mdef\u001b[0m \u001b[0mis_categorical_dtype\u001b[0m\u001b[0;34m(\u001b[0m\u001b[0marr_or_dtype\u001b[0m\u001b[0;34m)\u001b[0m\u001b[0;34m:\u001b[0m\u001b[0;34m\u001b[0m\u001b[0m\n\u001b[0m\u001b[1;32m    573\u001b[0m     \"\"\"\n\u001b[1;32m    574\u001b[0m     \u001b[0mCheck\u001b[0m \u001b[0mwhether\u001b[0m \u001b[0man\u001b[0m \u001b[0marray\u001b[0m\u001b[0;34m-\u001b[0m\u001b[0mlike\u001b[0m \u001b[0;32mor\u001b[0m \u001b[0mdtype\u001b[0m \u001b[0;32mis\u001b[0m \u001b[0mof\u001b[0m \u001b[0mthe\u001b[0m \u001b[0mCategorical\u001b[0m \u001b[0mdtype\u001b[0m\u001b[0;34m.\u001b[0m\u001b[0;34m\u001b[0m\u001b[0m\n",
      "\u001b[0;31mKeyboardInterrupt\u001b[0m: "
     ]
    }
   ],
   "source": [
    "data1 = pd.read_csv('data/NGSIM_Peachtree_Vehicle_Trajectories.csv')\n",
    "#data2 = pd.read_csv('data/NGSIM__Lankershim_Vehicle_Trajectories.csv')\n",
    "data3  = pd.read_csv('data/Next_Generation_Simulation__NGSIM__Vehicle_Trajectories_and_Supporting_Data.csv')\n",
    "\n",
    "data = pd.concat([data1,data3],axis=0)\n",
    "data = pd.concat([data,pd.get_dummies(data['Location'],prefix='Location'),\n",
    "                  pd.get_dummies(data['v_Class'],prefix='v_Class'),\n",
    "                  pd.get_dummies(data['Direction'],prefix='Direction'),\n",
    "                  pd.get_dummies(data['Movement'],prefix='Movement'),\n",
    "                 ],axis=1)#把location列归一化\n",
    "data = data.drop(['Location','v_Class','Lane_ID','O_Zone','D_Zone',\n",
    "                  'Int_ID','Section_ID','Direction','Movement'],\n",
    "                 axis=1)\n",
    "for i in range(len(data['Preceding'].values)):\n",
    "    if data['Preceding'].values[i]>0:\n",
    "        data['Preceding'].values[i] = 1\n",
    "\n",
    "for i in range(len(data['Following'].values)):\n",
    "    if data['Following'].values[i]>0:\n",
    "        data['Following'].values[i] = 1\n",
    "        \n",
    "data['Yaw_Angle'] = 0.\n",
    "for i in range(len(data['Global_Y'].values)-3):\n",
    "    yaw_angle = math.atan2(data['Global_Y'].values[i+3] - data['Global_Y'].values[i],\n",
    "                           data['Global_X'].values[i+3] - data['Global_X'].values[i])*180/np.pi\n",
    "    data['Yaw_Angle'].values[i] = yaw_angle\n",
    "\n",
    "def normalize(train):\n",
    "    train_norm = train.apply(lambda x:(x-np.mean(x)/np.std(x)))\n",
    "    return train_norm\n",
    "data = normalize(data)\n",
    "data.to_csv('处理数据/标准化数据1.csv')\n",
    "print('end')"
   ]
  },
  {
   "cell_type": "code",
   "execution_count": 3,
   "metadata": {},
   "outputs": [
    {
     "name": "stdout",
     "output_type": "stream",
     "text": [
      "3.141592653589793\n"
     ]
    }
   ],
   "source": [
    "print(np.pi)"
   ]
  },
  {
   "cell_type": "code",
   "execution_count": null,
   "metadata": {},
   "outputs": [],
   "source": [
    "#读取csv文件内的数据,并拼接成一个数据\n",
    "#data1 = pd.read_csv('data/NGSIM_Peachtree_Vehicle_Trajectories.csv')\n",
    "#data2 = pd.read_csv('data/NGSIM__Lankershim_Vehicle_Trajectories.csv')\n",
    "data3  = pd.read_csv('data/Next_Generation_Simulation__NGSIM__Vehicle_Trajectories_and_Supporting_Data.csv')\n",
    "\n",
    "data = pd.concat([data3],axis=0)\n",
    "data = pd.concat([data,pd.get_dummies(data['Location'],prefix='Location'),\n",
    "                  pd.get_dummies(data['v_Class'],prefix='v_Class'),\n",
    "                  pd.get_dummies(data['Lane_ID'],prefix='Lane_ID'),\n",
    "                  pd.get_dummies(data['O_Zone'],prefix='O_Zone'),\n",
    "                  pd.get_dummies(data['D_Zone'],prefix='D_Zone'),\n",
    "                  pd.get_dummies(data['Int_ID'],prefix='Int_ID'),\n",
    "                  pd.get_dummies(data['Direction'],prefix='Direction'),\n",
    "                  pd.get_dummies(data['Movement'],prefix='Movement'),\n",
    "                  pd.get_dummies(data['Section_ID'],prefix='Section_ID')\n",
    "                 ],axis=1)#把location列归一化\n",
    "data = data.drop(['Location','v_Class','Lane_ID','O_Zone','D_Zone',\n",
    "                  'Int_ID','Section_ID','Direction','Movement'],\n",
    "                 axis=1)\n",
    "\n",
    "for i in range(len(data['Preceding'].values)):\n",
    "    if data['Preceding'].values[i]>0:\n",
    "        data['Preceding'].values[i] = 1\n",
    "\n",
    "for i in range(len(data['Following'].values)):\n",
    "    if data['Following'].values[i]>0:\n",
    "        data['Following'].values[i] = 1\n",
    "        \n",
    "data['Yaw_Angle'] = 0.\n",
    "for i in range(len(data['Global_Y'].values)-3):\n",
    "    yaw_angle = math.atan2(data['Global_X'].values[i+3] - data['Global_X'].values[i],\n",
    "                           data['Global_Y'].values[i+3] - data['Global_Y'].values[i])\n",
    "    data['Yaw_Angle'].values[i] = yaw_angle\n",
    "print('calculate...')\n",
    "for i in range(len(data['Local_X'].values)):\n",
    "    data['Local_X'].values[i] =(data['Local_X'].values[i] - np.mean(data['Local_X'].values))/(np.max(data['Local_X'].values)-np.min(data['Local_X'].values))\n",
    "    \n",
    "    \n",
    "for i in range(len(data['Local_Y'].values)):\n",
    "    data['Local_Y'].values[i] =( data['Local_Y'].values[i] - np.mean(data['Local_Y'].values))/(np.max(data['Local_Y'].values)-np.min(data['Local_Y'].values))\n",
    "    \n",
    "#print(data)\n",
    "data.to_csv('处理数据2.csv')\n",
    "print('finish')"
   ]
  },
  {
   "cell_type": "code",
   "execution_count": null,
   "metadata": {},
   "outputs": [],
   "source": [
    "data1 = pd.read_csv('data/NGSIM_Peachtree_Vehicle_Trajectories.csv')\n",
    "#data2 = pd.read_csv('data/NGSIM__Lankershim_Vehicle_Trajectories.csv')\n",
    "data3  = pd.read_csv('data/Next_Generation_Simulation__NGSIM__Vehicle_Trajectories_and_Supporting_Data.csv')\n",
    "\n",
    "data = pd.concat([data1,data3],axis=0)\n",
    "\n",
    "data = pd.concat([data,pd.get_dummies(data['Location'],prefix='Location'),\n",
    "                  pd.get_dummies(data['v_Class'],prefix='v_Class'),\n",
    "                  pd.get_dummies(data['Direction'],prefix='Direction'),\n",
    "                  pd.get_dummies(data['Movement'],prefix='Movement'),\n",
    "                 ],axis=1)#把location列归一化\n",
    "data = data.drop(['Location','v_Class','Lane_ID','O_Zone','D_Zone',\n",
    "                  'Int_ID','Section_ID','Direction','Movement'],\n",
    "                 axis=1)\n",
    "\n",
    "for i in range(len(data['Preceding'].values)):\n",
    "    if data['Preceding'].values[i]>0:\n",
    "        data['Preceding'].values[i] = 1\n",
    "\n",
    "for i in range(len(data['Following'].values)):\n",
    "    if data['Following'].values[i]>0:\n",
    "        data['Following'].values[i] = 1\n",
    "        \n",
    "data['Yaw_Angle'] = 0.\n",
    "for i in range(len(data['Global_Y'].values)-3):\n",
    "    yaw_angle = math.atan2(data['Global_Y'].values[i+3] - data['Global_Y'].values[i],\n",
    "                           data['Global_X'].values[i+3] - data['Global_X'].values[i])*180/np.pi\n",
    "    data['Yaw_Angle'].values[i] = yaw_angle\n",
    "import numpy as np\n",
    "def normalize(train):\n",
    "    train_norm = train.apply(lambda x: (x - np.mean(x)) / (np.max(x) - np.min(x)))\n",
    "    return train_norm\n",
    "print('begin...')\n",
    "data=normalize(data)\n",
    "data.to_csv('处理数据/标准化数据.csv')\n",
    "print('end')\n"
   ]
  },
  {
   "cell_type": "code",
   "execution_count": 3,
   "metadata": {},
   "outputs": [
    {
     "name": "stdout",
     "output_type": "stream",
     "text": [
      "begin...\n",
      "end\n"
     ]
    }
   ],
   "source": [
    "data1 = pd.read_csv('data/NGSIM_Peachtree_Vehicle_Trajectories.csv')\n",
    "#data2 = pd.read_csv('data/NGSIM__Lankershim_Vehicle_Trajectories.csv')\n",
    "data3  = pd.read_csv('data/Next_Generation_Simulation__NGSIM__Vehicle_Trajectories_and_Supporting_Data.csv')\n",
    "\n",
    "data = pd.concat([data1,data3],axis=0)\n",
    "\n",
    "data = pd.concat([data,pd.get_dummies(data['Location'],prefix='Location')],axis=1)#把location列归一化\n",
    "data = data.drop(['Location'],axis=1)\n",
    "\n",
    "for i in range(len(data['Preceding'].values)):\n",
    "    if data['Preceding'].values[i]>0:\n",
    "        data['Preceding'].values[i] = 1\n",
    "\n",
    "for i in range(len(data['Following'].values)):\n",
    "    if data['Following'].values[i]>0:\n",
    "        data['Following'].values[i] = 1\n",
    "        \n",
    "data['Yaw_Angle'] = 0.\n",
    "for i in range(len(data['Global_Y'].values)-3):\n",
    "    yaw_angle = math.atan2(data['Global_X'].values[i+3] - data['Global_X'].values[i],\n",
    "                           data['Global_Y'].values[i+3] - data['Global_Y'].values[i])\n",
    "    data['Yaw_Angle'].values[i] = yaw_angle\n",
    "import numpy as np\n",
    "def normalize(train):\n",
    "    train_norm = train.apply(lambda x: (x - np.mean(x)) / (np.max(x) - np.min(x)))\n",
    "    return train_norm\n",
    "print('begin...')\n",
    "data=normalize(data)\n",
    "data.to_csv('处理数据/标准化数据_nodummy.csv')\n",
    "print('end')\n"
   ]
  },
  {
   "cell_type": "code",
   "execution_count": 6,
   "metadata": {},
   "outputs": [
    {
     "name": "stdout",
     "output_type": "stream",
     "text": [
      "总采样数为: 802719\n",
      "总车辆数为: 1244\n"
     ]
    }
   ],
   "source": [
    "#data1 = pd.read_csv('data/NGSIM_Peachtree_Vehicle_Trajectories.csv')\n",
    "#data2 = pd.read_csv('data/NGSIM__Lankershim_Vehicle_Trajectories.csv')\n",
    "data3  = pd.read_csv('data/Next_Generation_Simulation__NGSIM__Vehicle_Trajectories_and_Supporting_Data.csv')\n",
    "\n",
    "data = pd.concat([data3],axis=0)\n",
    "data = pd.concat([data,pd.get_dummies(data['Location'],prefix='Location'),\n",
    "                  pd.get_dummies(data['v_Class'],prefix='v_Class'),\n",
    "                  pd.get_dummies(data['Direction'],prefix='Direction'),\n",
    "                  pd.get_dummies(data['Movement'],prefix='Movement'),\n",
    "                 ],axis=1)#把location列归一化\n",
    "data = data.drop(['Location','v_Class','Lane_ID','O_Zone','D_Zone',\n",
    "                  'Int_ID','Section_ID','Direction','Movement'],\n",
    "                 axis=1)\n",
    "for i in range(len(data['Preceding'].values)):\n",
    "    if data['Preceding'].values[i]>0:\n",
    "        data['Preceding'].values[i] = 1\n",
    "\n",
    "for i in range(len(data['Following'].values)):\n",
    "    if data['Following'].values[i]>0:\n",
    "        data['Following'].values[i] = 1\n",
    "        \n",
    "data['Yaw_Angle'] = 0.\n",
    "for i in range(len(data['Global_Y'].values)-3):\n",
    "    yaw_angle = math.atan2(data['Global_X'].values[i+3] - data['Global_X'].values[i],\n",
    "                           data['Global_Y'].values[i+3] - data['Global_Y'].values[i])\n",
    "    data['Yaw_Angle'].values[i] = yaw_angle\n",
    "import numpy as np\n",
    "quant_features = ['Local_X','Local_Y','Global_X','Global_Y','v_length','v_Width','v_Vel','v_Acc','Yaw_Angle']\n",
    "#得到车辆数\n",
    "vehicle_id = np.array(data['Vehicle_ID'])\n",
    "print('总采样数为:',len(vehicle_id))\n",
    "print('总车辆数为:',len(np.unique(vehicle_id)))\n",
    "\n",
    "\n",
    "\n",
    "\n"
   ]
  },
  {
   "cell_type": "code",
   "execution_count": 4,
   "metadata": {},
   "outputs": [
    {
     "name": "stdout",
     "output_type": "stream",
     "text": [
      "start..\n",
      "0.2436986727949202 486.509\n",
      "927.7015568869493 2113.03\n"
     ]
    }
   ],
   "source": [
    "data1 = pd.read_csv('data/NGSIM_Peachtree_Vehicle_Trajectories.csv')\n",
    "#data2 = pd.read_csv('data/NGSIM__Lankershim_Vehicle_Trajectories.csv')\n",
    "data3  = pd.read_csv('data/Next_Generation_Simulation__NGSIM__Vehicle_Trajectories_and_Supporting_Data.csv')\n",
    "\n",
    "data_ = pd.concat([data1,data3],axis=0)\n",
    "quant_features = ['Local_X','Local_Y','Global_X','Global_Y']\n",
    "scaled_features = {}\n",
    "print('start..')\n",
    "for each in quant_features:\n",
    "    mean, std = data_[each].mean(), data_[each].max()-data_[each].min()\n",
    "    scaled_features[each] = [mean, std]\n",
    "    data_.loc[:, each] = (data_[each] - mean)/std\n",
    "mean_x, std_x = scaled_features['Local_X']\n",
    "mean_y, std_y = scaled_features['Local_Y']\n",
    "print(mean_x, std_x)\n",
    "print(mean_y, std_y)"
   ]
  },
  {
   "cell_type": "code",
   "execution_count": null,
   "metadata": {},
   "outputs": [],
   "source": [
    "x,y = next(iter(train_loader))\n",
    "y = y.cpu().detach().numpy().tolist() \n",
    "x = x.cpu().detach().numpy().tolist() \n",
    "plt.scatter([s[0] for s in y[0:30]],[s[1] for s in y[0:30]],color= 'red',label = 'globl_position')\n",
    "plt.scatter([s[0] for s in x[0:30]],[s[1] for s in x[0:30]],color= 'b',label = 'globl_position')"
   ]
  },
  {
   "cell_type": "markdown",
   "metadata": {},
   "source": [
    "Global location trajectory"
   ]
  },
  {
   "cell_type": "code",
   "execution_count": 1,
   "metadata": {},
   "outputs": [
    {
     "ename": "NameError",
     "evalue": "name 'np' is not defined",
     "output_type": "error",
     "traceback": [
      "\u001b[0;31m---------------------------------------------------------------------------\u001b[0m",
      "\u001b[0;31mNameError\u001b[0m                                 Traceback (most recent call last)",
      "\u001b[0;32m<ipython-input-1-51807420240f>\u001b[0m in \u001b[0;36m<module>\u001b[0;34m\u001b[0m\n\u001b[1;32m      1\u001b[0m \u001b[0mi\u001b[0m \u001b[0;34m=\u001b[0m \u001b[0;36m0\u001b[0m\u001b[0;34m\u001b[0m\u001b[0m\n\u001b[1;32m      2\u001b[0m \u001b[0mvehicle_locations\u001b[0m \u001b[0;34m=\u001b[0m \u001b[0;34m[\u001b[0m\u001b[0;34m]\u001b[0m\u001b[0;34m\u001b[0m\u001b[0m\n\u001b[0;32m----> 3\u001b[0;31m \u001b[0;32mfor\u001b[0m \u001b[0mid\u001b[0m \u001b[0;32min\u001b[0m \u001b[0mnp\u001b[0m\u001b[0;34m.\u001b[0m\u001b[0munique\u001b[0m\u001b[0;34m(\u001b[0m\u001b[0mvehicle_id\u001b[0m\u001b[0;34m)\u001b[0m\u001b[0;34m:\u001b[0m\u001b[0;34m\u001b[0m\u001b[0m\n\u001b[0m\u001b[1;32m      4\u001b[0m     \u001b[0mi\u001b[0m \u001b[0;34m=\u001b[0m \u001b[0mi\u001b[0m \u001b[0;34m+\u001b[0m\u001b[0;36m1\u001b[0m\u001b[0;34m\u001b[0m\u001b[0m\n\u001b[1;32m      5\u001b[0m     \u001b[0mvehicle_location\u001b[0m \u001b[0;34m=\u001b[0m \u001b[0mposition_global\u001b[0m\u001b[0;34m[\u001b[0m\u001b[0mnp\u001b[0m\u001b[0;34m.\u001b[0m\u001b[0margwhere\u001b[0m\u001b[0;34m(\u001b[0m\u001b[0mvehicle_id\u001b[0m\u001b[0;34m==\u001b[0m\u001b[0mid\u001b[0m\u001b[0;34m)\u001b[0m\u001b[0;34m]\u001b[0m\u001b[0;34m\u001b[0m\u001b[0m\n",
      "\u001b[0;31mNameError\u001b[0m: name 'np' is not defined"
     ]
    }
   ],
   "source": [
    "i = 0\n",
    "vehicle_locations = []\n",
    "for id in np.unique(vehicle_id):\n",
    "    i = i +1\n",
    "    vehicle_location = position_global[np.argwhere(vehicle_id==id)]\n",
    "    vehicle_locations.append(len(vehicle_location))\n",
    "    plt.scatter([s[0][0] for s in vehicle_location[0:30]],[s[0][1] for s in vehicle_location[0:30]],color= 'red',label = 'globl_position')\n",
    "    #print([s[0][0] for s in vehicle_location[0:30]],[s[0][1] for s in vehicle_location[0:30]])\n",
    "    #plt.plot([s[0] for s in position_local[0:30]],[s[1]for s in position_local[0:30]],color = 'blue',label = 'local_position')\n",
    "    plt.legend()\n",
    "    plt.show()\n",
    "    if i == 10:\n",
    "        break\n",
    "\n",
    "#plt.savefig('local_postion.png')"
   ]
  },
  {
   "cell_type": "markdown",
   "metadata": {},
   "source": [
    "Local location trjectory "
   ]
  },
  {
   "cell_type": "code",
   "execution_count": null,
   "metadata": {},
   "outputs": [],
   "source": [
    "i = 0\n",
    "vehicle_locations = []\n",
    "for id in np.unique(vehicle_id):\n",
    "    i = i +1\n",
    "    vehicle_location = position_local[np.argwhere(vehicle_id==id)]\n",
    "    vehicle_locations.append(len(vehicle_location))\n",
    "    plt.scatter([s[0][0] for s in vehicle_location[0:30]],[s[0][1] for s in vehicle_location[0:30]],color= 'red',label = 'local_position')\n",
    "    #print([s[0][0] for s in vehicle_location[0:30]],[s[0][1] for s in vehicle_location[0:30]])\n",
    "    #plt.plot([s[0] for s in position_local[0:30]],[s[1]for s in position_local[0:30]],color = 'blue',label = 'local_position')\n",
    "    plt.legend()\n",
    "    plt.show()\n",
    "    if i == 10:\n",
    "        break\n",
    "\n",
    "#plt.savefig('local_postion.png')"
   ]
  },
  {
   "cell_type": "code",
   "execution_count": null,
   "metadata": {},
   "outputs": [],
   "source": [
    "print(min(vehicle_locations),max(vehicle_locations))\n",
    "print(vehicle_locations)"
   ]
  },
  {
   "cell_type": "code",
   "execution_count": null,
   "metadata": {},
   "outputs": [],
   "source": [
    "s = np.array([[1,2],[3,4]])- np.array([[1,3],[4,5]])\n",
    "print(s)"
   ]
  },
  {
   "cell_type": "code",
   "execution_count": null,
   "metadata": {},
   "outputs": [],
   "source": [
    "def predict(net,test_loader):\n",
    "    valid_loss = []\n",
    "    for i,(x,y) in enumerate(train_loader):\n",
    "        if i == 10:\n",
    "            break\n",
    "        if use_cuda:\n",
    "            x,y = x.cuda(),y.cuda()\n",
    "        out = net(x)\n",
    "\n",
    "        loss = criterion(out,y)\n",
    "        valid_loss.append(loss.item())\n",
    "        y = y.cpu().detach().numpy().tolist()\n",
    "        out = out.cpu().detach().numpy().tolist()\n",
    "        print('Test Loss:',np.mean(valid_loss))\n",
    "        plt.scatter([s[0]*std_x+mean_x for s in y[:30]],[s[1]*std_y+mean_y for s in y[:30]],color = 'r',label ='actual_path')\n",
    "        plt.scatter([s[0]*std_x+mean_x for s in out[:30]],[s[1]*std_y+mean_y for s in out[:30]] ,color = 'b',label = 'predict_path')\n",
    "        plt.legend()\n",
    "        plt.show()\n",
    "        \n",
    "        "
   ]
  },
  {
   "cell_type": "markdown",
   "metadata": {},
   "source": [
    "它使用最小二乘法将数据的小窗口回归到多项式上，然后使用多项式估计窗口中心的点。最后，窗口向前移动一个数据点并重复该过程。这一直持续到每个点相对于其邻居进行了最佳调整。即使是来自非周期性和非线性源的噪声样本，它也能很好地工作。"
   ]
  },
  {
   "cell_type": "code",
   "execution_count": 90,
   "metadata": {},
   "outputs": [
    {
     "data": {
      "image/png": "[encoded data removed]",
      "text/plain": [
       "<matplotlib.figure.Figure at 0x7fdc6f3b0550>"
      ]
     },
     "metadata": {
      "needs_background": "light"
     },
     "output_type": "display_data"
    }
   ],
   "source": [
    "import numpy as np\n",
    "import matplotlib.pyplot as plt\n",
    "from scipy.signal import savgol_filter\n",
    "\n",
    "\n",
    "x = np.linspace(0,2*np.pi,100)\n",
    "y = np.sin(x) + np.random.random(100) * 0.2\n",
    "yhat = savgol_filter(y, 39, 2) # window size 51, polynomial order 3\n",
    "sin = np.sin(x)\n",
    "\n",
    "plt.plot(x,y,label='input')\n",
    "plt.plot(x,yhat, color='red',label='sg')\n",
    "plt.plot(x,sin,color='g',label='sin')\n",
    "plt.legend()\n",
    "plt.show()"
   ]
  },
  {
   "cell_type": "code",
   "execution_count": 107,
   "metadata": {},
   "outputs": [
    {
     "name": "stdout",
     "output_type": "stream",
     "text": [
      "input data: [ 0.1059127   0.14746339  0.2982714   0.34924263  0.42464794  0.41818672\n",
      "  0.42647497  0.60334618  0.55694673  0.64084406  0.63462205  0.65690614\n",
      "  0.7159361   0.81178637  0.88240255  0.96117314  1.00894827  0.92306453\n",
      "  1.08320619  1.04580813  1.14974978  1.08934056  0.9895987   1.04466496\n",
      "  1.04495672  1.06959856  1.0040481   1.12694919  1.02043922  1.15761829\n",
      "  1.07129581  0.95309272  0.90551542  0.91923702  1.00717513  0.98831127\n",
      "  0.84503035  0.90962337  0.79292948  0.67727689  0.67125486  0.55829407\n",
      "  0.47904849  0.51872468  0.49809706  0.30646688  0.29513102  0.32246414\n",
      "  0.15068446  0.15052644  0.12789041 -0.08101627 -0.13739837 -0.05147585\n",
      " -0.15280954 -0.26592437 -0.27700796 -0.29715895 -0.31667889 -0.53536237\n",
      " -0.51572471 -0.50227556 -0.67249561 -0.74240749 -0.69094854 -0.68644872\n",
      " -0.86387669 -0.79806361 -0.90387618 -0.85305891 -0.8817107  -0.92659556\n",
      " -0.87658464 -0.94224479 -0.95480118 -0.91099522 -0.96760426 -0.88116426\n",
      " -0.95837613 -0.81452224 -0.8740402  -0.79505246 -0.73326728 -0.72365638\n",
      " -0.80980022 -0.68358355 -0.56454361 -0.55040998 -0.56414103 -0.53701516\n",
      " -0.42712754 -0.39517252 -0.39657315 -0.28071949 -0.18984572 -0.1870303\n",
      " -0.07000973 -0.04659701  0.01538915  0.04307213]\n",
      "变量矩阵x: (5, 3)\n",
      "矩阵 B: (5, 5)\n",
      "sg_data: [0.10367075863778333, 0.1711891627138482, 0.26969725711142273, 0.36900589609484197, 0.40725508494178675, 0.4132823594322565, 0.4732481494313898, 0.5394529461149906, 0.606145319361673, 0.6117833523996203, 0.6440836778242143, 0.6576060237490982, 0.72126142518666, 0.80360554574962, 0.888620122821387, 0.9666171579256378, 0.9676041863897135, 0.9936287645934528, 1.0161395135939602, 1.1010569870207387, 1.1128318839952096, 1.0834157736352155, 1.0242035621617729, 1.019918627823344, 1.0615567445769976, 1.0358968815432286, 1.063748651821184, 1.0505809568654396, 1.1010355642395224, 1.1011487303455116, 1.0789341984268848, 0.9626784299656884, 0.9036087451882222, 0.9358601132518658, 0.99316912767518, 0.9583193227182165, 0.9068690828469025, 0.8606385965015121, 0.7992499616298498, 0.7051476236219921, 0.6406357174230575, 0.5630467025245005, 0.5017140987170075, 0.5128509523241138, 0.45849743481259136, 0.34871735524227765, 0.30337299696137215, 0.2703056042389865, 0.19909881621822093, 0.14792869579283288, 0.08481144884829299, -0.05110068294151698, -0.11002629270627001, -0.09476464068191844, -0.1475241678871167, -0.24664628509185912, -0.2873619973729173, -0.2792024053516146, -0.3713028263957724, -0.4769057110532947, -0.5214700474278269, -0.5418291076023465, -0.6499600651609001, -0.7261738384306871, -0.6938080789934071, -0.7344605038985121, -0.7918736463236891, -0.8617597996696449, -0.8555029459867456, -0.878716183875901, -0.8858158011884697, -0.8990216429397645, -0.9090996412941668, -0.9280576845184373, -0.9410838132728974, -0.9453016233043576, -0.9204472627135457, -0.9404287057947898, -0.8890199686813527, -0.8802063960995296, -0.831389985531856, -0.8054013022363145, -0.7325293855957593, -0.7538017252741974, -0.7645728620608513, -0.6940242046405976, -0.5795239963113135, -0.5496968325509313, -0.5618424505356212, -0.5196495170324984, -0.4447222226660427, -0.4042610620652531, -0.37147222769463595, -0.2875042687250241, -0.212589318317631, -0.15188088796179472, -0.0991521010434037, -0.02902062147518131, 0.008575134413065299, 0.041266747676091516]\n"
     ]
    },
    {
     "data": {
      "image/png": "[encoded data removed]",
      "text/plain": [
       "<matplotlib.figure.Figure at 0x7fdc6e717358>"
      ]
     },
     "metadata": {
      "needs_background": "light"
     },
     "output_type": "display_data"
    }
   ],
   "source": [
    "import numpy as np\n",
    "import matplotlib.pyplot as plt\n",
    "from scipy.signal import savgol_filter\n",
    "\n",
    "Size = 100\n",
    "x = np.linspace(0,2*np.pi,100)\n",
    "data = np.sin(x) + np.random.random(100) * 0.2\n",
    "sin = np.sin(x)\n",
    "#x = np.linspace(1, Size,Size)\n",
    "#data = np.random.randint(1, Size, Size)\n",
    "\n",
    "plt.plot(x, data,color='y',label='pre_filter data')\n",
    "plt.plot(x,sin,color='g',label='sin')\n",
    "print(\"input data:\",data)\n",
    "#savgol_filter\n",
    "y = savgol_filter(data, 59, 3, mode= 'nearest')\n",
    "# print(x)\n",
    "plt.plot(x, y, 'b', label = 'savgol_filter')\n",
    "\n",
    "#self \n",
    "arr = []\n",
    "window_size = 5\n",
    "k =3\n",
    "m = int((window_size-1)/2)\n",
    "for i in range(window_size):\n",
    "    a = []\n",
    "    for j in range(k):\n",
    "        y_val = np.power(-m + i, j)\n",
    "        a.append(y_val)\n",
    "    arr.append(a)\n",
    "\n",
    "X = np.mat(arr)\n",
    "print(\"变量矩阵x:\",X.shape)\n",
    "#print(arr.I)\n",
    "B = X * (X.T * X).I * X.T\n",
    "print(\"矩阵 B:\",B.shape)\n",
    "# print(step)\n",
    "a = np.array(B[m])#只使用矩阵的第m行\n",
    "#print(a)\n",
    "a = a.reshape(window_size)\n",
    "#print(a)\n",
    "\n",
    "\n",
    "data = np.insert(data, 0, [data[0] for i in range(m)])\n",
    "data = np.append(data, [data[-1] for i in range(m)])\n",
    "#print(data)\n",
    "list = []\n",
    "for i in range(m, data.shape[0] - m):\n",
    "    arra = []\n",
    "    for j in range(-m, m+1):\n",
    "        arra.append(data[i +j])#找到临近的window_size个点\n",
    "    #print(arra)\n",
    "    b = np.sum(np.array(arra) * a)#使用多项式求解,并把多项式结果作为平滑后的点\n",
    "    # c = arr * (np.mat(arra).reshape(window_size,1))\n",
    "    # for j in range(window_size):\n",
    "    #     data[i - step + j] = c[j][0]\n",
    "    # print(c.reshape(window_size))\n",
    "    list.append(b)#得到所有平滑后的点\n",
    "print(\"sg_data:\",(list))\n",
    "plt.plot(x, np.array(list), 'r', label = 'self')\n",
    "plt.legend()\n",
    "plt.savefig(\"sg.png\",dpi=600)\n",
    "plt.show()\n"
   ]
  },
  {
   "cell_type": "code",
   "execution_count": 19,
   "metadata": {},
   "outputs": [
    {
     "data": {
      "image/png": "[encoded data removed]",
      "text/plain": [
       "<matplotlib.figure.Figure at 0x7fd7c90e0dd8>"
      ]
     },
     "metadata": {
      "needs_background": "light"
     },
     "output_type": "display_data"
    }
   ],
   "source": [
    "plt.subplot(3,4,1)\n",
    "x = np.linspace(0,2*np.pi,100)\n",
    "data = np.sin(x) + np.random.random(100) * 0.1\n",
    "sin = np.sin(x)\n",
    "plt.plot(x,data,'r')\n",
    "\n",
    "plt.subplot(3,4,2)\n",
    "plt.plot(x,sin,'b')\n",
    "\n",
    "plt.subplot(3,4,3)\n",
    "plt.plot(x,sin,'b')\n",
    "\n",
    "plt.subplot(3,4,4)\n",
    "plt.plot(x,sin,'b')\n",
    "\n",
    "plt.subplot(3,4,5)\n",
    "plt.plot(x,sin,'b')\n",
    "\n",
    "plt.subplot(3,4,6)\n",
    "plt.plot(x,sin,'b')\n",
    "\n",
    "plt.subplot(3,4,7)\n",
    "plt.plot(x,sin,'b')\n",
    "plt.show()"
   ]
  },
  {
   "cell_type": "code",
   "execution_count": 31,
   "metadata": {},
   "outputs": [
    {
     "data": {
      "text/plain": [
       "<matplotlib.legend.Legend at 0x7f261f2ba9b0>"
      ]
     },
     "execution_count": 31,
     "metadata": {},
     "output_type": "execute_result"
    },
    {
     "data": {
      "image/png": "[encoded data removed]",
      "text/plain": [
       "<matplotlib.figure.Figure at 0x7f261f37de80>"
      ]
     },
     "metadata": {
      "needs_background": "light"
     },
     "output_type": "display_data"
    }
   ],
   "source": [
    "x = np.linspace(0,2*np.pi,100)\n",
    "y =-(2*ｘ + 2)/2.5\n",
    "y1 =-((2-0.3*2)*x+(2-0.3))/(2.5-0.3*(-6))\n",
    "y2 =-((2+0.3*2)*x+(2+0.3))/(2.5+0.3*(-6))\n",
    "plt.plot(x,y,'r',label='previous')\n",
    "plt.plot(x,y1,'b',label = 'after subtraction')\n",
    "plt.plot(x,y2,'y',label = 'after addition')\n",
    "plt.legend()"
   ]
  },
  {
   "cell_type": "code",
   "execution_count": 110,
   "metadata": {},
   "outputs": [
    {
     "name": "stdout",
     "output_type": "stream",
     "text": [
      "[3, 2, 3, 4, 8]\n",
      "[13 14 15]\n"
     ]
    }
   ],
   "source": [
    "x = [2,3,4]\n",
    "a = [3]\n",
    "b = [8]\n",
    "s = a+x+b\n",
    "x,a,b = np.array(x),np.array(a),np.array(b)\n",
    "d = a+x+b\n",
    "print(s)\n",
    "print(d)"
   ]
  },
  {
   "cell_type": "code",
   "execution_count": 123,
   "metadata": {},
   "outputs": [
    {
     "name": "stdout",
     "output_type": "stream",
     "text": [
      "(2, 2, 4)\n",
      "[([1, 2, 3, 4], [2, 3, 4, 6]), ([6, 7, 8, 9], [6, 7, 9, 1])]\n"
     ]
    }
   ],
   "source": [
    "y = [[[1,2,3,4],[6,7,8,9]],[[2,3,4,6],[6,7,9,1]]]\n",
    "print(np.array(y).shape)\n",
    "A = [i for i in zip(*(y))]\n",
    "print(A)"
   ]
  },
  {
   "cell_type": "code",
   "execution_count": 9,
   "metadata": {},
   "outputs": [
    {
     "name": "stdout",
     "output_type": "stream",
     "text": [
      "x [[3 4 5]\n",
      " [3 2 4]\n",
      " [5 6 7]\n",
      " [6 7 8]\n",
      " [7 8 9]]\n",
      "y [[5 6]\n",
      " [6 7]\n",
      " [7 8]\n",
      " [7 6]\n",
      " [7 6]]\n",
      "[[3 4 5]\n",
      " [3 2 4]\n",
      " [5 6 7]\n",
      " [6 7 8]\n",
      " [7 8 9]\n",
      " [7 6 7]\n",
      " [7 6 7]]\n"
     ]
    }
   ],
   "source": [
    "b = np.array([[3,4,5],[3,2,4],[5,6,7],[6,7,8],[7,8,9],[7,6,7],[7,6,7]])\n",
    "X = b[:-2,:]\n",
    "Y = b[2:,:2]\n",
    "print(\"x\",X)\n",
    "print(\"y\",Y)\n",
    "print(b[:,:3])"
   ]
  },
  {
   "cell_type": "code",
   "execution_count": null,
   "metadata": {},
   "outputs": [],
   "source": []
  }
 ],
 "metadata": {
  "kernelspec": {
   "display_name": "Python 3",
   "language": "python",
   "name": "python3"
  },
  "language_info": {
   "codemirror_mode": {
    "name": "ipython",
    "version": 3
   },
   "file_extension": ".py",
   "mimetype": "text/x-python",
   "name": "python",
   "nbconvert_exporter": "python",
   "pygments_lexer": "ipython3",
   "version": "3.7.3"
  }
 },
 "nbformat": 4,
 "nbformat_minor": 2
}
