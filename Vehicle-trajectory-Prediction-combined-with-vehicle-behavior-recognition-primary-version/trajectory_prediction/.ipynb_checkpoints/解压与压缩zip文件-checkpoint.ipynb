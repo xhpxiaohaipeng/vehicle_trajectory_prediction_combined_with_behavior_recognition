{
 "cells": [
  {
   "cell_type": "code",
   "execution_count": 1,
   "metadata": {},
   "outputs": [],
   "source": [
    "import sys, os, zipfile\n",
    "def compress(zip_file, input_dir):\n",
    "    print(\"源目录:\", input_dir)\n",
    "    print(\"压缩到:\",zip_file)\n",
    "    f_zip = zipfile.ZipFile(zip_file, 'w')\n",
    "    for root, dirs, files in os.walk(input_dir):\n",
    "        for f in files:\n",
    "             # 获取文件相对路径，在压缩包内建立相同的目录结构\n",
    "            abs_path = os.path.join(os.path.join(root, f))\n",
    "            rel_path = os.path.relpath(abs_path, os.path.dirname(input_dir))\n",
    "            f_zip.write(abs_path, rel_path, zipfile.ZIP_STORED)\n",
    "            \n",
    "def extract(zip_file, output_dir,pwd=None):\n",
    "    print(\"源目录:\", zip_file)\n",
    "    print(\"解压到:\", output_dir)\n",
    "    if pwd:\n",
    "        pwd = pwd.encode()\n",
    "    f_zip = zipfile.ZipFile(zip_file, 'r')\n",
    "    # 解压所有文件到指定目录\n",
    "    f_zip.extractall(output_dir,pwd=pwd)"
   ]
  },
  {
   "cell_type": "code",
   "execution_count": 2,
   "metadata": {},
   "outputs": [
    {
     "name": "stdout",
     "output_type": "stream",
     "text": [
      "源目录: video_行为预测.zip\n",
      "解压到: /storage-data/jupyter_deeplearning_service/Jupyter/xiaohaipeng\n"
     ]
    }
   ],
   "source": [
    "extract('video_行为预测.zip',os.getcwd())"
   ]
  },
  {
   "cell_type": "code",
   "execution_count": 12,
   "metadata": {},
   "outputs": [
    {
     "name": "stdout",
     "output_type": "stream",
     "text": [
      "源目录: trajectory_prediction\n",
      "压缩到: /storage-data/jupyter_deeplearning_service/Jupyter/xiaohaipeng/1.zip\n"
     ]
    }
   ],
   "source": [
    "compress(os.getcwd()+'/1.zip','trajectory_prediction',)"
   ]
  },
  {
   "cell_type": "code",
   "execution_count": null,
   "metadata": {},
   "outputs": [],
   "source": []
  }
 ],
 "metadata": {
  "kernelspec": {
   "display_name": "Python 3",
   "language": "python",
   "name": "python3"
  },
  "language_info": {
   "codemirror_mode": {
    "name": "ipython",
    "version": 3
   },
   "file_extension": ".py",
   "mimetype": "text/x-python",
   "name": "python",
   "nbconvert_exporter": "python",
   "pygments_lexer": "ipython3",
   "version": "3.7.3"
  }
 },
 "nbformat": 4,
 "nbformat_minor": 4
}
